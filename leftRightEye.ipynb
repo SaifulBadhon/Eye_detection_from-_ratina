{
  "cells": [
    {
      "cell_type": "code",
      "execution_count": null,
      "metadata": {
        "id": "f4NsOGoLF95F"
      },
      "outputs": [],
      "source": [
        "#starting imports\n",
        "import numpy as np\n",
        "import pandas as pd\n",
        "import matplotlib.pyplot as plt\n",
        "import os\n",
        "import cv2\n",
        "from tqdm import tqdm"
      ]
    },
    {
      "cell_type": "code",
      "execution_count": null,
      "metadata": {
        "colab": {
          "base_uri": "https://localhost:8080/"
        },
        "id": "fGq9S2Qxl_ag",
        "outputId": "3a23ac16-d3f3-4588-c456-3628ce221c1b"
      },
      "outputs": [
        {
          "output_type": "stream",
          "name": "stdout",
          "text": [
            "Mounted at /content/drive\n"
          ]
        }
      ],
      "source": [
        "from google.colab import drive\n",
        "drive.mount('/content/drive')"
      ]
    },
    {
      "cell_type": "markdown",
      "metadata": {
        "id": "H_BGprEGXSxg"
      },
      "source": [
        "Data processing"
      ]
    },
    {
      "cell_type": "code",
      "execution_count": null,
      "metadata": {
        "colab": {
          "base_uri": "https://localhost:8080/"
        },
        "id": "VEKhL9kmGWaX",
        "outputId": "c3aaccaa-4cc6-45d2-fc79-d265e38a2d05"
      },
      "outputs": [
        {
          "output_type": "stream",
          "name": "stderr",
          "text": [
            "100%|██████████| 12082/12082 [06:02<00:00, 33.34it/s] \n"
          ]
        }
      ],
      "source": [
        "#left eye represented by 0 and right eye 1\n",
        "#this shell converting the images into array and with some scripting I stored the label from its name\n",
        "training_data = []\n",
        "path = \"‪/content/drive/MyDrive/left eye right eye/left right images\".rsplit(\"\\u202a\")[1]\n",
        "IMG_SIZE = 28\n",
        "for img in tqdm(os.listdir(path)):  \n",
        "    if 'left' in img:\n",
        "        class_num = 0\n",
        "    else:\n",
        "        class_num = 1\n",
        "    try:\n",
        "        img_array = cv2.imread(os.path.join(path,img) ,cv2.IMREAD_GRAYSCALE)  \n",
        "        new_array = cv2.resize(img_array, (IMG_SIZE, IMG_SIZE)) \n",
        "        training_data.append([new_array, class_num]) \n",
        "    except Exception as e:\n",
        "        print(\"problem\")\n",
        "        break"
      ]
    },
    {
      "cell_type": "code",
      "execution_count": null,
      "metadata": {
        "id": "Yvq9HvDsGaVM"
      },
      "outputs": [],
      "source": [
        "#separating image's array and labels of them\n",
        "X = []\n",
        "y = []\n",
        "\n",
        "for features,label in training_data:\n",
        "    X.append(features)\n",
        "    y.append(label)\n",
        "\n",
        "#reshaping as every pixel can a single array \n",
        "X = np.array(X).reshape(-1, IMG_SIZE, IMG_SIZE, 1) \n",
        "\n",
        "#converting all into 0 to 1, as 255 is the max value in color cmbination\n",
        "X = X/255.0"
      ]
    },
    {
      "cell_type": "markdown",
      "source": [
        ""
      ],
      "metadata": {
        "id": "8KhZU3lOqqU6"
      }
    },
    {
      "cell_type": "code",
      "execution_count": null,
      "metadata": {
        "id": "aUtF74v6U9hz"
      },
      "outputs": [],
      "source": [
        "y = np.array(y)"
      ]
    },
    {
      "cell_type": "markdown",
      "metadata": {
        "id": "5jmHGUDwXWG5"
      },
      "source": [
        "The CNN approach "
      ]
    },
    {
      "cell_type": "code",
      "execution_count": null,
      "metadata": {
        "id": "xi70IJKsXRHr"
      },
      "outputs": [],
      "source": [
        ""
      ]
    },
    {
      "cell_type": "code",
      "execution_count": null,
      "metadata": {
        "id": "ZfaS0TAlGgDo"
      },
      "outputs": [],
      "source": [
        "#all keras imports\n",
        "\n",
        "from keras.models import Sequential,load_model,model_from_json\n",
        "from keras.layers import Dense, Dropout, Activation, Flatten\n",
        "from keras.layers import Conv2D, MaxPooling2D\n",
        "from keras.callbacks import EarlyStopping"
      ]
    },
    {
      "cell_type": "code",
      "execution_count": null,
      "metadata": {
        "id": "h5kuB7xzGkWd"
      },
      "outputs": [],
      "source": [
        "#early stop\n",
        "es = EarlyStopping(monitor='val_accuracy')"
      ]
    },
    {
      "cell_type": "code",
      "execution_count": null,
      "metadata": {
        "id": "I6Xi2-j5dil9"
      },
      "outputs": [],
      "source": [
        ""
      ]
    },
    {
      "cell_type": "code",
      "execution_count": null,
      "metadata": {
        "id": "wpvK9FSHGliq"
      },
      "outputs": [],
      "source": [
        "#the model\n",
        "model2 = Sequential()  \n",
        "\n",
        "model2.add(Conv2D(512,kernel_size=3,activation='relu',input_shape=(IMG_SIZE,IMG_SIZE,1)))\n",
        "model2.add(MaxPooling2D(2))\n",
        "\n",
        "model2.add(Conv2D(128,kernel_size=3,activation='relu',input_shape=(IMG_SIZE,IMG_SIZE,1)))\n",
        "model2.add(MaxPooling2D(2))\n",
        "model2.add(Conv2D(64,kernel_size=3,activation='relu',input_shape=(IMG_SIZE,IMG_SIZE,1)))\n",
        "model2.add(Conv2D(64,kernel_size=3,activation='relu',input_shape=(IMG_SIZE,IMG_SIZE,1)))\n",
        "\n",
        "model2.add(Flatten())\n",
        "model2.add(Dense(2,activation='softmax'))"
      ]
    },
    {
      "cell_type": "code",
      "execution_count": null,
      "metadata": {
        "id": "rMHRnFHJGoUy"
      },
      "outputs": [],
      "source": [
        "model2.compile(loss='sparse_categorical_crossentropy',\n",
        "              optimizer='adam',\n",
        "              metrics=['accuracy'],run_eagerly=True)"
      ]
    },
    {
      "cell_type": "code",
      "execution_count": null,
      "metadata": {
        "colab": {
          "base_uri": "https://localhost:8080/"
        },
        "id": "CokUfqM4Gv19",
        "outputId": "c0cd88a5-5450-4991-fcd6-d076fee1d962"
      },
      "outputs": [
        {
          "output_type": "stream",
          "name": "stdout",
          "text": [
            "Epoch 1/15\n",
            "303/303 [==============================] - 161s 530ms/step - loss: 0.3183 - accuracy: 0.8473 - val_loss: 0.1452 - val_accuracy: 0.9462\n",
            "Epoch 2/15\n",
            "303/303 [==============================] - 149s 493ms/step - loss: 0.1430 - accuracy: 0.9437 - val_loss: 0.1113 - val_accuracy: 0.9611\n",
            "Epoch 3/15\n",
            "303/303 [==============================] - 148s 490ms/step - loss: 0.1213 - accuracy: 0.9571 - val_loss: 0.0905 - val_accuracy: 0.9648\n",
            "Epoch 4/15\n",
            "303/303 [==============================] - 149s 490ms/step - loss: 0.1084 - accuracy: 0.9602 - val_loss: 0.0941 - val_accuracy: 0.9615\n",
            "Epoch 5/15\n",
            "303/303 [==============================] - 149s 492ms/step - loss: 0.1005 - accuracy: 0.9663 - val_loss: 0.0913 - val_accuracy: 0.9669\n",
            "Epoch 6/15\n",
            "303/303 [==============================] - 148s 487ms/step - loss: 0.0914 - accuracy: 0.9692 - val_loss: 0.0797 - val_accuracy: 0.9694\n",
            "Epoch 7/15\n",
            "303/303 [==============================] - 149s 493ms/step - loss: 0.0851 - accuracy: 0.9718 - val_loss: 0.0688 - val_accuracy: 0.9768\n",
            "Epoch 8/15\n",
            "303/303 [==============================] - 148s 490ms/step - loss: 0.0828 - accuracy: 0.9725 - val_loss: 0.0715 - val_accuracy: 0.9710\n",
            "Epoch 9/15\n",
            "303/303 [==============================] - 148s 490ms/step - loss: 0.0769 - accuracy: 0.9753 - val_loss: 0.0645 - val_accuracy: 0.9760\n",
            "Epoch 10/15\n",
            "303/303 [==============================] - 147s 486ms/step - loss: 0.0709 - accuracy: 0.9762 - val_loss: 0.0629 - val_accuracy: 0.9810\n",
            "Epoch 11/15\n",
            "303/303 [==============================] - 148s 489ms/step - loss: 0.0701 - accuracy: 0.9775 - val_loss: 0.0687 - val_accuracy: 0.9748\n",
            "Epoch 12/15\n",
            "303/303 [==============================] - 148s 487ms/step - loss: 0.0658 - accuracy: 0.9796 - val_loss: 0.0835 - val_accuracy: 0.9702\n",
            "Epoch 13/15\n",
            "303/303 [==============================] - 148s 487ms/step - loss: 0.0631 - accuracy: 0.9791 - val_loss: 0.0597 - val_accuracy: 0.9818\n",
            "Epoch 14/15\n",
            "303/303 [==============================] - 148s 488ms/step - loss: 0.0575 - accuracy: 0.9807 - val_loss: 0.0608 - val_accuracy: 0.9801\n",
            "Epoch 15/15\n",
            "303/303 [==============================] - 147s 487ms/step - loss: 0.0572 - accuracy: 0.9819 - val_loss: 0.0658 - val_accuracy: 0.9806\n"
          ]
        }
      ],
      "source": [
        "#because of early stoping itteration stoped \n",
        "training = model2.fit(X, y, epochs=15, validation_split=0.2)"
      ]
    },
    {
      "cell_type": "code",
      "execution_count": null,
      "metadata": {
        "colab": {
          "base_uri": "https://localhost:8080/",
          "height": 282
        },
        "id": "OHRYdH6dGv4f",
        "outputId": "0f9ccc95-e223-4b17-bf1f-ac661758005b"
      },
      "outputs": [
        {
          "output_type": "execute_result",
          "data": {
            "text/plain": [
              "[<matplotlib.lines.Line2D at 0x7efd1d15d710>]"
            ]
          },
          "metadata": {},
          "execution_count": 11
        },
        {
          "output_type": "display_data",
          "data": {
            "text/plain": [
              "<Figure size 432x288 with 1 Axes>"
            ],
            "image/png": "[encoded data removed]"
          },
          "metadata": {
            "needs_background": "light"
          }
        }
      ],
      "source": [
        "#below two graph is showing us there is no overfitting and I handle it with early stoping \n",
        "plt.plot(training.history['accuracy'])"
      ]
    },
    {
      "cell_type": "code",
      "execution_count": null,
      "metadata": {
        "colab": {
          "base_uri": "https://localhost:8080/",
          "height": 282
        },
        "id": "F-5xG4QEGv7W",
        "outputId": "cafdedf7-bd83-485c-baad-8087559b6c5d"
      },
      "outputs": [
        {
          "output_type": "execute_result",
          "data": {
            "text/plain": [
              "[<matplotlib.lines.Line2D at 0x7efd1cc48750>]"
            ]
          },
          "metadata": {},
          "execution_count": 12
        },
        {
          "output_type": "display_data",
          "data": {
            "text/plain": [
              "<Figure size 432x288 with 1 Axes>"
            ],
            "image/png": "[encoded data removed]"
          },
          "metadata": {
            "needs_background": "light"
          }
        }
      ],
      "source": [
        "plt.plot(training.history['val_accuracy'])"
      ]
    },
    {
      "cell_type": "code",
      "execution_count": null,
      "metadata": {
        "id": "b_Yz4HzBGv9t"
      },
      "outputs": [],
      "source": [
        "#As keras dont suffle before splitting, so last 20% must be the test dataset. I will use this for creating a confusion matrix\n",
        "test_data = training_data[9642:12052]\n"
      ]
    },
    {
      "cell_type": "code",
      "execution_count": null,
      "metadata": {
        "id": "UF5ouBFvGwAU"
      },
      "outputs": [],
      "source": [
        "#making the data feedable\n",
        "X_test = []\n",
        "y_test = []\n",
        "\n",
        "for features,label in test_data:\n",
        "    X_test.append(features)\n",
        "    y_test.append(label)\n",
        "\n",
        "X_test = np.array(X_test).reshape(-1, IMG_SIZE, IMG_SIZE, 1) \n",
        "\n",
        "X_test = X_test/255.0"
      ]
    },
    {
      "cell_type": "code",
      "execution_count": null,
      "metadata": {
        "id": "zSCymvqRGwC6"
      },
      "outputs": [],
      "source": [
        "#predicting with the test data \n",
        "\n",
        "predict_x= model2.predict(X_test) \n",
        "y_predict=np.argmax(predict_x,axis=1)\n",
        "# predictions = (model2.predict(X_test) > 0.5).astype(\"int32\")\n"
      ]
    },
    {
      "cell_type": "code",
      "execution_count": null,
      "metadata": {
        "colab": {
          "base_uri": "https://localhost:8080/"
        },
        "id": "Ao6sigiPGwF0",
        "outputId": "b161f7c1-fbd7-480c-df15-6b54fc9c8dae"
      },
      "outputs": [
        {
          "output_type": "execute_result",
          "data": {
            "text/plain": [
              "array([[1177,   29],\n",
              "       [  18, 1186]])"
            ]
          },
          "metadata": {},
          "execution_count": 17
        }
      ],
      "source": [
        "#creating the confusion matrix\n",
        "from sklearn.metrics import confusion_matrix\n",
        "\n",
        "con_matrix = confusion_matrix(y_test, y_predict)\n",
        "con_matrix"
      ]
    },
    {
      "cell_type": "code",
      "execution_count": null,
      "metadata": {
        "colab": {
          "base_uri": "https://localhost:8080/",
          "height": 338
        },
        "id": "w_71fsa1HFBH",
        "outputId": "08eea513-607d-4d58-ab71-8ec0f3123e16"
      },
      "outputs": [
        {
          "output_type": "display_data",
          "data": {
            "text/plain": [
              "<Figure size 864x360 with 2 Axes>"
            ],
            "image/png": "[encoded data removed]"
          },
          "metadata": {
            "needs_background": "light"
          }
        }
      ],
      "source": [
        "#some better visualization\n",
        "import seaborn as sn\n",
        "import matplotlib.pyplot as plt\n",
        "%matplotlib inline\n",
        "f, ax = plt.subplots(figsize=(12,5))\n",
        "sn.heatmap(con_matrix , annot=True,fmt=\"d\")\n",
        "ax.set_xlabel('True label', size=14)\n",
        "ax.set_ylabel('Predicted label',size=14)\n",
        "\n",
        "plt.rc('xtick', labelsize=12) \n",
        "plt.rc('ytick', labelsize=12)\n",
        "plt.show()"
      ]
    },
    {
      "cell_type": "code",
      "execution_count": null,
      "metadata": {
        "colab": {
          "base_uri": "https://localhost:8080/"
        },
        "id": "F7lYmcdQHJ1i",
        "outputId": "de51491e-e994-493c-9964-8d6bb8748917"
      },
      "outputs": [
        {
          "output_type": "stream",
          "name": "stdout",
          "text": [
            "Model: \"sequential\"\n",
            "_________________________________________________________________\n",
            " Layer (type)                Output Shape              Param #   \n",
            "=================================================================\n",
            " conv2d (Conv2D)             (None, 26, 26, 512)       5120      \n",
            "                                                                 \n",
            " max_pooling2d (MaxPooling2D  (None, 13, 13, 512)      0         \n",
            " )                                                               \n",
            "                                                                 \n",
            " conv2d_1 (Conv2D)           (None, 11, 11, 128)       589952    \n",
            "                                                                 \n",
            " max_pooling2d_1 (MaxPooling  (None, 5, 5, 128)        0         \n",
            " 2D)                                                             \n",
            "                                                                 \n",
            " conv2d_2 (Conv2D)           (None, 3, 3, 64)          73792     \n",
            "                                                                 \n",
            " conv2d_3 (Conv2D)           (None, 1, 1, 64)          36928     \n",
            "                                                                 \n",
            " flatten (Flatten)           (None, 64)                0         \n",
            "                                                                 \n",
            " dense (Dense)               (None, 2)                 130       \n",
            "                                                                 \n",
            "=================================================================\n",
            "Total params: 705,922\n",
            "Trainable params: 705,922\n",
            "Non-trainable params: 0\n",
            "_________________________________________________________________\n"
          ]
        }
      ],
      "source": [
        "#the summery and structure of my model\n",
        "model2.summary()"
      ]
    },
    {
      "cell_type": "code",
      "execution_count": null,
      "metadata": {
        "colab": {
          "base_uri": "https://localhost:8080/"
        },
        "id": "ETslz2utHOOQ",
        "outputId": "80c56246-1d5b-4ab7-9135-52d8ce69fc81"
      },
      "outputs": [
        {
          "output_type": "stream",
          "name": "stdout",
          "text": [
            "precision: [0.98493724 0.97613169]\n",
            "recall: [0.97595357 0.98504983]\n",
            "fscore: [0.98042482 0.98057048]\n",
            "support: [1206 1204]\n"
          ]
        }
      ],
      "source": [
        "from sklearn.metrics import precision_recall_fscore_support as score\n",
        "\n",
        "\n",
        "\n",
        "precision, recall, fscore, support = score(y_test, y_predict)\n",
        "\n",
        "print('precision: {}'.format(precision))\n",
        "print('recall: {}'.format(recall))\n",
        "print('fscore: {}'.format(fscore))\n",
        "print('support: {}'.format(support))\n"
      ]
    },
    {
      "cell_type": "code",
      "execution_count": null,
      "metadata": {
        "id": "vPtI-SEoWPrV"
      },
      "outputs": [],
      "source": [
        ""
      ]
    },
    {
      "cell_type": "markdown",
      "metadata": {
        "id": "DW_Vx8MfWQ6o"
      },
      "source": [
        "With ML Algorithms\n"
      ]
    },
    {
      "cell_type": "code",
      "execution_count": null,
      "metadata": {
        "id": "BdvD1uCpWQC5"
      },
      "outputs": [],
      "source": [
        "from sklearn.model_selection import train_test_split"
      ]
    },
    {
      "cell_type": "code",
      "execution_count": null,
      "metadata": {
        "id": "b0WHbsZPaQUI"
      },
      "outputs": [],
      "source": [
        "X_reshaped = X.reshape((12082, -1))"
      ]
    },
    {
      "cell_type": "code",
      "execution_count": null,
      "metadata": {
        "id": "n0ken8JyWQFw"
      },
      "outputs": [],
      "source": [
        "X_train, X_test, y_train, y_test = train_test_split(X_reshaped, y, test_size=0.20, random_state=42)"
      ]
    },
    {
      "cell_type": "code",
      "execution_count": null,
      "metadata": {
        "id": "5mwPMefraZP8"
      },
      "outputs": [],
      "source": [
        ""
      ]
    },
    {
      "cell_type": "markdown",
      "metadata": {
        "id": "lra3yWe7aa7n"
      },
      "source": [
        "SVM"
      ]
    },
    {
      "cell_type": "code",
      "execution_count": null,
      "metadata": {
        "colab": {
          "base_uri": "https://localhost:8080/"
        },
        "id": "-CioYQibWQIW",
        "outputId": "242ecbd1-049d-4cc4-e1fe-84af92a42020"
      },
      "outputs": [
        {
          "output_type": "execute_result",
          "data": {
            "text/plain": [
              "SVC()"
            ]
          },
          "metadata": {},
          "execution_count": 24
        }
      ],
      "source": [
        "from sklearn import svm\n",
        "svm = svm.SVC()\n",
        "svm.fit(X_train, y_train)\n"
      ]
    },
    {
      "cell_type": "code",
      "execution_count": null,
      "metadata": {
        "id": "RZE5Dl6raFgM"
      },
      "outputs": [],
      "source": [
        "svm.score(X_test,y_test)\n",
        "\n",
        "svmPredict = svm.predict(X_test)"
      ]
    },
    {
      "cell_type": "code",
      "execution_count": null,
      "metadata": {
        "colab": {
          "base_uri": "https://localhost:8080/"
        },
        "id": "6YMTb1rrz8Eg",
        "outputId": "8b71f169-e475-4453-b981-3a15ba3066a2"
      },
      "outputs": [
        {
          "output_type": "stream",
          "name": "stdout",
          "text": [
            "precision: [0.9132948  0.94112769]\n",
            "recall: [0.93967715 0.91532258]\n",
            "fscore: [0.92629816 0.92804579]\n",
            "support: [1177 1240]\n"
          ]
        }
      ],
      "source": [
        "from sklearn.metrics import precision_recall_fscore_support as score\n",
        "\n",
        "\n",
        "\n",
        "precision, recall, fscore, support = score(y_test, svmPredict)\n",
        "\n",
        "print('precision: {}'.format(precision))\n",
        "print('recall: {}'.format(recall))\n",
        "print('fscore: {}'.format(fscore))\n",
        "print('support: {}'.format(support))"
      ]
    },
    {
      "cell_type": "code",
      "execution_count": null,
      "metadata": {
        "id": "Gdoa0JapiEm1",
        "colab": {
          "base_uri": "https://localhost:8080/",
          "height": 479
        },
        "outputId": "10ca9d46-d7f6-48ea-ab13-2eaaca3ac69e"
      },
      "outputs": [
        {
          "output_type": "display_data",
          "data": {
            "text/plain": [
              "<Figure size 504x504 with 1 Axes>"
            ],
            "image/png": "[encoded data removed]"
          },
          "metadata": {
            "needs_background": "light"
          }
        }
      ],
      "source": [
        "df = pd.DataFrame({'Actual': y_test, 'Predicted': svmPredict})\n",
        "df.plot(kind='bar',figsize=(7,7),xlabel='Test Data',ylabel='Cardio',title='SVM')\n",
        "plt.show()"
      ]
    },
    {
      "cell_type": "code",
      "execution_count": null,
      "metadata": {
        "id": "qXSsle6MkqOB",
        "colab": {
          "base_uri": "https://localhost:8080/"
        },
        "outputId": "520435fc-b41f-446e-c298-65ecb53a58ab"
      },
      "outputs": [
        {
          "output_type": "execute_result",
          "data": {
            "text/plain": [
              "array([[1106,   71],\n",
              "       [ 105, 1135]])"
            ]
          },
          "metadata": {},
          "execution_count": 28
        }
      ],
      "source": [
        "#creating the confusion matrix\n",
        "from sklearn.metrics import confusion_matrix\n",
        "\n",
        "con_matrix = confusion_matrix(y_test, svmPredict)\n",
        "con_matrix"
      ]
    },
    {
      "cell_type": "code",
      "execution_count": null,
      "metadata": {
        "id": "sK2B25yRkwYj",
        "colab": {
          "base_uri": "https://localhost:8080/",
          "height": 341
        },
        "outputId": "b7bda227-fb8e-4dae-e597-463d8ef9db5f"
      },
      "outputs": [
        {
          "output_type": "display_data",
          "data": {
            "text/plain": [
              "<Figure size 864x360 with 2 Axes>"
            ],
            "image/png": "[encoded data removed]"
          },
          "metadata": {
            "needs_background": "light"
          }
        }
      ],
      "source": [
        "#some better visualization\n",
        "import seaborn as sn\n",
        "import matplotlib.pyplot as plt\n",
        "%matplotlib inline\n",
        "f, ax = plt.subplots(figsize=(12,5))\n",
        "sn.heatmap(con_matrix , annot=True,fmt=\"d\")\n",
        "ax.set_xlabel('True label', size=14)\n",
        "ax.set_ylabel('Predicted label',size=14)\n",
        "\n",
        "plt.rc('xtick', labelsize=12) \n",
        "plt.rc('ytick', labelsize=12)\n",
        "plt.show()"
      ]
    },
    {
      "cell_type": "markdown",
      "metadata": {
        "id": "3bdfiBJQaepr"
      },
      "source": [
        "Random forest"
      ]
    },
    {
      "cell_type": "code",
      "execution_count": null,
      "metadata": {
        "colab": {
          "base_uri": "https://localhost:8080/"
        },
        "id": "RGBg2U8TWQLN",
        "outputId": "526d0214-cfe7-44e1-e335-f9d6b37cd197"
      },
      "outputs": [
        {
          "output_type": "execute_result",
          "data": {
            "text/plain": [
              "RandomForestClassifier(max_depth=2, random_state=0)"
            ]
          },
          "metadata": {},
          "execution_count": 30
        }
      ],
      "source": [
        "from sklearn.ensemble import RandomForestClassifier\n",
        "rf = RandomForestClassifier(max_depth=2, random_state=0)\n",
        "rf.fit(X_train, y_train)"
      ]
    },
    {
      "cell_type": "code",
      "execution_count": null,
      "metadata": {
        "colab": {
          "base_uri": "https://localhost:8080/"
        },
        "id": "8DkbeblVYhta",
        "outputId": "46afd243-9922-4c72-eb49-652dee687089"
      },
      "outputs": [
        {
          "output_type": "execute_result",
          "data": {
            "text/plain": [
              "0.6793545717832024"
            ]
          },
          "metadata": {},
          "execution_count": 31
        }
      ],
      "source": [
        "rf.score(X_test,y_test)"
      ]
    },
    {
      "cell_type": "code",
      "execution_count": null,
      "metadata": {
        "id": "LWfiM3N6YklQ"
      },
      "outputs": [],
      "source": [
        "rfPredict = rf.predict(X_test)"
      ]
    },
    {
      "cell_type": "code",
      "execution_count": null,
      "metadata": {
        "colab": {
          "base_uri": "https://localhost:8080/"
        },
        "id": "BX8ksXzAET1V",
        "outputId": "cf112af9-b060-40b3-c9ab-9971c8ab90d8"
      },
      "outputs": [
        {
          "output_type": "stream",
          "name": "stdout",
          "text": [
            "precision: [0.74512195 0.64558547]\n",
            "recall: [0.5191164  0.83145161]\n",
            "fscore: [0.61191788 0.72682411]\n",
            "support: [1177 1240]\n"
          ]
        }
      ],
      "source": [
        "from sklearn.metrics import precision_recall_fscore_support as score\n",
        "\n",
        "\n",
        "\n",
        "precision, recall, fscore, support = score(y_test, rfPredict)\n",
        "\n",
        "print('precision: {}'.format(precision))\n",
        "print('recall: {}'.format(recall))\n",
        "print('fscore: {}'.format(fscore))\n",
        "print('support: {}'.format(support))"
      ]
    },
    {
      "cell_type": "code",
      "execution_count": null,
      "metadata": {
        "id": "FJfvagsqk4sG",
        "colab": {
          "base_uri": "https://localhost:8080/",
          "height": 479
        },
        "outputId": "3815d2f2-246a-43ee-de43-d403b069c0e0"
      },
      "outputs": [
        {
          "output_type": "display_data",
          "data": {
            "text/plain": [
              "<Figure size 504x504 with 1 Axes>"
            ],
            "image/png": "[encoded data removed]"
          },
          "metadata": {
            "needs_background": "light"
          }
        }
      ],
      "source": [
        "df = pd.DataFrame({'Actual': y_test, 'Predicted': rfPredict})\n",
        "df.plot(kind='bar',figsize=(7,7),xlabel='Test Data',ylabel='Cardio',title='Random Forest')\n",
        "plt.show()"
      ]
    },
    {
      "cell_type": "code",
      "execution_count": null,
      "metadata": {
        "id": "fvOnMJuDk7aW",
        "colab": {
          "base_uri": "https://localhost:8080/"
        },
        "outputId": "58955c65-35eb-4889-ccbd-2c89ae5b4ba7"
      },
      "outputs": [
        {
          "output_type": "execute_result",
          "data": {
            "text/plain": [
              "array([[ 611,  566],\n",
              "       [ 209, 1031]])"
            ]
          },
          "metadata": {},
          "execution_count": 35
        }
      ],
      "source": [
        "#creating the confusion matrix\n",
        "from sklearn.metrics import confusion_matrix\n",
        "\n",
        "con_matrix = confusion_matrix(y_test, rfPredict)\n",
        "con_matrix"
      ]
    },
    {
      "cell_type": "code",
      "execution_count": null,
      "metadata": {
        "id": "I9t9U48ylBL6",
        "colab": {
          "base_uri": "https://localhost:8080/",
          "height": 341
        },
        "outputId": "6fda353a-1ddb-4dd4-952d-c410646fb1ca"
      },
      "outputs": [
        {
          "output_type": "display_data",
          "data": {
            "text/plain": [
              "<Figure size 864x360 with 2 Axes>"
            ],
            "image/png": "[encoded data removed]"
          },
          "metadata": {
            "needs_background": "light"
          }
        }
      ],
      "source": [
        "#some better visualization\n",
        "import seaborn as sn\n",
        "import matplotlib.pyplot as plt\n",
        "%matplotlib inline\n",
        "f, ax = plt.subplots(figsize=(12,5))\n",
        "sn.heatmap(con_matrix , annot=True,fmt=\"d\")\n",
        "ax.set_xlabel('True label', size=14)\n",
        "ax.set_ylabel('Predicted label',size=14)\n",
        "\n",
        "plt.rc('xtick', labelsize=12) \n",
        "plt.rc('ytick', labelsize=12)\n",
        "plt.show()"
      ]
    },
    {
      "cell_type": "markdown",
      "metadata": {
        "id": "riACz0KpbO7a"
      },
      "source": [
        "KNN"
      ]
    },
    {
      "cell_type": "code",
      "execution_count": null,
      "metadata": {
        "colab": {
          "base_uri": "https://localhost:8080/"
        },
        "id": "J2duI5PMZs1F",
        "outputId": "50eabf22-17bf-41e0-9e93-14a2845dce36"
      },
      "outputs": [
        {
          "output_type": "execute_result",
          "data": {
            "text/plain": [
              "KNeighborsClassifier(n_neighbors=2)"
            ]
          },
          "metadata": {},
          "execution_count": 37
        }
      ],
      "source": [
        "from sklearn.neighbors import KNeighborsClassifier\n",
        "neigh = KNeighborsClassifier(n_neighbors=2)\n",
        "neigh.fit(X_train, y_train)"
      ]
    },
    {
      "cell_type": "code",
      "execution_count": null,
      "metadata": {
        "colab": {
          "base_uri": "https://localhost:8080/"
        },
        "id": "rTC3KMJ3ZvBs",
        "outputId": "a373be91-21ec-4f5c-d55d-23a6ac30c070"
      },
      "outputs": [
        {
          "output_type": "execute_result",
          "data": {
            "text/plain": [
              "0.9139429044269756"
            ]
          },
          "metadata": {},
          "execution_count": 38
        }
      ],
      "source": [
        "neigh.score(X_test,y_test)"
      ]
    },
    {
      "cell_type": "code",
      "execution_count": null,
      "metadata": {
        "id": "1hS3om3TbhVC"
      },
      "outputs": [],
      "source": [
        "neighPredict = neigh.predict(X_test)"
      ]
    },
    {
      "cell_type": "code",
      "execution_count": null,
      "metadata": {
        "colab": {
          "base_uri": "https://localhost:8080/"
        },
        "id": "Qe4nxbt7ElW6",
        "outputId": "93fb9346-b94b-455d-f941-a0f3d174ce4d"
      },
      "outputs": [
        {
          "output_type": "stream",
          "name": "stdout",
          "text": [
            "precision: [0.86900228 0.9673913 ]\n",
            "recall: [0.96941376 0.86129032]\n",
            "fscore: [0.91646586 0.9112628 ]\n",
            "support: [1177 1240]\n"
          ]
        }
      ],
      "source": [
        "from sklearn.metrics import precision_recall_fscore_support as score\n",
        "\n",
        "\n",
        "\n",
        "precision, recall, fscore, support = score(y_test, neighPredict)\n",
        "\n",
        "print('precision: {}'.format(precision))\n",
        "print('recall: {}'.format(recall))\n",
        "print('fscore: {}'.format(fscore))\n",
        "print('support: {}'.format(support))"
      ]
    },
    {
      "cell_type": "code",
      "execution_count": null,
      "metadata": {
        "id": "fRiMb86IlGgu",
        "colab": {
          "base_uri": "https://localhost:8080/",
          "height": 479
        },
        "outputId": "7ece09e4-c484-4f92-a4b2-d905284e6589"
      },
      "outputs": [
        {
          "output_type": "display_data",
          "data": {
            "text/plain": [
              "<Figure size 504x504 with 1 Axes>"
            ],
            "image/png": "[encoded data removed]"
          },
          "metadata": {
            "needs_background": "light"
          }
        }
      ],
      "source": [
        "df = pd.DataFrame({'Actual': y_test, 'Predicted': neighPredict})\n",
        "df.plot(kind='bar',figsize=(7,7),xlabel='Test Data',ylabel='Cardio',title='KNN')\n",
        "plt.show()"
      ]
    },
    {
      "cell_type": "code",
      "execution_count": null,
      "metadata": {
        "id": "eFgyRy8-lGrm",
        "colab": {
          "base_uri": "https://localhost:8080/"
        },
        "outputId": "2eaacf17-3a57-4a4e-cb5e-b38c8d004150"
      },
      "outputs": [
        {
          "output_type": "execute_result",
          "data": {
            "text/plain": [
              "array([[1141,   36],\n",
              "       [ 172, 1068]])"
            ]
          },
          "metadata": {},
          "execution_count": 42
        }
      ],
      "source": [
        "#creating the confusion matrix\n",
        "from sklearn.metrics import confusion_matrix\n",
        "\n",
        "con_matrix = confusion_matrix(y_test, neighPredict)\n",
        "con_matrix"
      ]
    },
    {
      "cell_type": "code",
      "execution_count": null,
      "metadata": {
        "id": "3SCH-hxhlG1K",
        "colab": {
          "base_uri": "https://localhost:8080/",
          "height": 341
        },
        "outputId": "4b186d2f-55f4-4630-8031-9102b88f3ac2"
      },
      "outputs": [
        {
          "output_type": "display_data",
          "data": {
            "text/plain": [
              "<Figure size 864x360 with 2 Axes>"
            ],
            "image/png": "[encoded data removed]"
          },
          "metadata": {
            "needs_background": "light"
          }
        }
      ],
      "source": [
        "#some better visualization\n",
        "import seaborn as sn\n",
        "import matplotlib.pyplot as plt\n",
        "%matplotlib inline\n",
        "f, ax = plt.subplots(figsize=(12,5))\n",
        "sn.heatmap(con_matrix , annot=True,fmt=\"d\")\n",
        "ax.set_xlabel('True label', size=14)\n",
        "ax.set_ylabel('Predicted label',size=14)\n",
        "\n",
        "plt.rc('xtick', labelsize=12) \n",
        "plt.rc('ytick', labelsize=12)\n",
        "plt.show()"
      ]
    },
    {
      "cell_type": "markdown",
      "metadata": {
        "id": "LeayPkbNbzbx"
      },
      "source": [
        "Gradient boosting"
      ]
    },
    {
      "cell_type": "code",
      "execution_count": null,
      "metadata": {
        "colab": {
          "base_uri": "https://localhost:8080/"
        },
        "id": "ahq_I6Z-b1hq",
        "outputId": "19245828-8b39-4287-eef9-186d5d3b7695"
      },
      "outputs": [
        {
          "output_type": "execute_result",
          "data": {
            "text/plain": [
              "0.8129913115432355"
            ]
          },
          "metadata": {},
          "execution_count": 44
        }
      ],
      "source": [
        "from sklearn.ensemble import GradientBoostingClassifier\n",
        "gb = GradientBoostingClassifier(n_estimators=100, learning_rate=1.0,max_depth=1, random_state=0).fit(X_train, y_train)\n",
        "gb.score(X_test, y_test)"
      ]
    },
    {
      "cell_type": "code",
      "execution_count": null,
      "metadata": {
        "id": "UIITY95JcC4z"
      },
      "outputs": [],
      "source": [
        "gbPredict = gb.predict(X_test)"
      ]
    },
    {
      "cell_type": "code",
      "execution_count": null,
      "metadata": {
        "colab": {
          "base_uri": "https://localhost:8080/"
        },
        "id": "dfqoW05lFCUe",
        "outputId": "d8452fd8-7629-402d-a1d5-037410c13e37"
      },
      "outputs": [
        {
          "output_type": "stream",
          "name": "stdout",
          "text": [
            "precision: [0.79884584 0.82724252]\n",
            "recall: [0.82327952 0.80322581]\n",
            "fscore: [0.81087866 0.81505728]\n",
            "support: [1177 1240]\n"
          ]
        }
      ],
      "source": [
        "from sklearn.metrics import precision_recall_fscore_support as score\n",
        "\n",
        "\n",
        "\n",
        "precision, recall, fscore, support = score(y_test, gbPredict)\n",
        "\n",
        "print('precision: {}'.format(precision))\n",
        "print('recall: {}'.format(recall))\n",
        "print('fscore: {}'.format(fscore))\n",
        "print('support: {}'.format(support))"
      ]
    },
    {
      "cell_type": "code",
      "execution_count": null,
      "metadata": {
        "id": "lYuusC0ZFFPO",
        "colab": {
          "base_uri": "https://localhost:8080/",
          "height": 479
        },
        "outputId": "9b74198d-e453-46ed-bffa-2edbb9685da2"
      },
      "outputs": [
        {
          "output_type": "display_data",
          "data": {
            "text/plain": [
              "<Figure size 504x504 with 1 Axes>"
            ],
            "image/png": "[encoded data removed]"
          },
          "metadata": {
            "needs_background": "light"
          }
        }
      ],
      "source": [
        "df = pd.DataFrame({'Actual': y_test, 'Predicted': gbPredict})\n",
        "df.plot(kind='bar',figsize=(7,7),xlabel='Test Data',ylabel='Cardio',title='Gradient Boosting')\n",
        "plt.show()"
      ]
    },
    {
      "cell_type": "code",
      "execution_count": null,
      "metadata": {
        "id": "M5kSezSUlNSl",
        "colab": {
          "base_uri": "https://localhost:8080/"
        },
        "outputId": "a1b88735-0af3-421c-f13f-e0a661de0916"
      },
      "outputs": [
        {
          "output_type": "execute_result",
          "data": {
            "text/plain": [
              "array([[969, 208],\n",
              "       [244, 996]])"
            ]
          },
          "metadata": {},
          "execution_count": 48
        }
      ],
      "source": [
        "#creating the confusion matrix\n",
        "from sklearn.metrics import confusion_matrix\n",
        "\n",
        "con_matrix = confusion_matrix(y_test, gbPredict)\n",
        "con_matrix"
      ]
    },
    {
      "cell_type": "code",
      "execution_count": null,
      "metadata": {
        "id": "qYv0Fwj6lNav",
        "colab": {
          "base_uri": "https://localhost:8080/",
          "height": 341
        },
        "outputId": "b57d45ad-835a-4225-8f1f-29e17ceb2f8c"
      },
      "outputs": [
        {
          "output_type": "display_data",
          "data": {
            "text/plain": [
              "<Figure size 864x360 with 2 Axes>"
            ],
            "image/png": "[encoded data removed]"
          },
          "metadata": {
            "needs_background": "light"
          }
        }
      ],
      "source": [
        "#some better visualization\n",
        "import seaborn as sn\n",
        "import matplotlib.pyplot as plt\n",
        "%matplotlib inline\n",
        "f, ax = plt.subplots(figsize=(12,5))\n",
        "sn.heatmap(con_matrix , annot=True,fmt=\"d\")\n",
        "ax.set_xlabel('True label', size=14)\n",
        "ax.set_ylabel('Predicted label',size=14)\n",
        "\n",
        "plt.rc('xtick', labelsize=12) \n",
        "plt.rc('ytick', labelsize=12)\n",
        "plt.show()"
      ]
    }
  ],
  "metadata": {
    "colab": {
      "collapsed_sections": [],
      "name": "leftRightEye.ipynb",
      "provenance": []
    },
    "kernelspec": {
      "display_name": "Python 3",
      "name": "python3"
    },
    "language_info": {
      "name": "python"
    }
  },
  "nbformat": 4,
  "nbformat_minor": 0
}